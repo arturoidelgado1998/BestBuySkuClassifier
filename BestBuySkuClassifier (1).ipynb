{
  "nbformat": 4,
  "nbformat_minor": 0,
  "metadata": {
    "colab": {
      "name": "BestBuySkuClassifier",
      "provenance": [],
      "collapsed_sections": [],
      "toc_visible": true,
      "machine_shape": "hm"
    },
    "kernelspec": {
      "display_name": "Python 3",
      "name": "python3"
    }
  },
  "cells": [
    {
      "cell_type": "markdown",
      "metadata": {
        "id": "AtEuO7myS0r9"
      },
      "source": [
        "#Best Buy SKU Classifier"
      ]
    },
    {
      "cell_type": "markdown",
      "metadata": {
        "id": "6oJsLdi6TP15"
      },
      "source": [
        "The point of this python notebook is to see how accurate KNN and Naive Bayes are to choosing skus that that consumers will choose due to past behavior\n"
      ]
    },
    {
      "cell_type": "markdown",
      "metadata": {
        "id": "IRwiQjzbTZhY"
      },
      "source": [
        "# Import Library and CSV File"
      ]
    },
    {
      "cell_type": "code",
      "metadata": {
        "id": "r5-zeiLCTeWq"
      },
      "source": [
        "import pandas as pd\n",
        "import numpy as np\n",
        "import matplotlib.pyplot as plt\n",
        "import seaborn as sns\n",
        "from scipy import stats"
      ],
      "execution_count": null,
      "outputs": []
    },
    {
      "cell_type": "code",
      "metadata": {
        "colab": {
          "base_uri": "https://localhost:8080/",
          "height": 407
        },
        "id": "97yXTb4cTiPt",
        "outputId": "8307997c-d2ab-4c47-c923-35d351019642"
      },
      "source": [
        "clean_data = pd.read_csv('/content/sample_data/bestbuysmalldataset2.csv')\n",
        "#raw_data.head()\n",
        "\n",
        "#raw_data.drop(raw_data.columns[len(raw_data.columns)-1],axis=1,inplace = True)\n",
        "display(clean_data)"
      ],
      "execution_count": null,
      "outputs": [
        {
          "output_type": "display_data",
          "data": {
            "text/html": [
              "<div>\n",
              "<style scoped>\n",
              "    .dataframe tbody tr th:only-of-type {\n",
              "        vertical-align: middle;\n",
              "    }\n",
              "\n",
              "    .dataframe tbody tr th {\n",
              "        vertical-align: top;\n",
              "    }\n",
              "\n",
              "    .dataframe thead th {\n",
              "        text-align: right;\n",
              "    }\n",
              "</style>\n",
              "<table border=\"1\" class=\"dataframe\">\n",
              "  <thead>\n",
              "    <tr style=\"text-align: right;\">\n",
              "      <th></th>\n",
              "      <th>user</th>\n",
              "      <th>sku</th>\n",
              "      <th>category</th>\n",
              "      <th>query</th>\n",
              "      <th>click_time</th>\n",
              "      <th>query_time</th>\n",
              "    </tr>\n",
              "  </thead>\n",
              "  <tbody>\n",
              "    <tr>\n",
              "      <th>0</th>\n",
              "      <td>000000df17cd56a5df4a94074e133c9d4739fae3</td>\n",
              "      <td>2125233.0</td>\n",
              "      <td>abcat0101001</td>\n",
              "      <td>Televisiones Panasonic  50 pulgadas</td>\n",
              "      <td>44:52.5</td>\n",
              "      <td>43:59.8</td>\n",
              "    </tr>\n",
              "    <tr>\n",
              "      <th>1</th>\n",
              "      <td>000001928162247ffaf63185cd8b2a244c78e7c6</td>\n",
              "      <td>2009324.0</td>\n",
              "      <td>abcat0101001</td>\n",
              "      <td>Sharp</td>\n",
              "      <td>25:37.4</td>\n",
              "      <td>25:01.2</td>\n",
              "    </tr>\n",
              "    <tr>\n",
              "      <th>2</th>\n",
              "      <td>000017f79c2b5da56721f22f9fdd726b13daf8e8</td>\n",
              "      <td>1517163.0</td>\n",
              "      <td>pcmcat193100050014</td>\n",
              "      <td>nook</td>\n",
              "      <td>56:58.9</td>\n",
              "      <td>55:13.0</td>\n",
              "    </tr>\n",
              "    <tr>\n",
              "      <th>3</th>\n",
              "      <td>000017f79c2b5da56721f22f9fdd726b13daf8e8</td>\n",
              "      <td>2877125.0</td>\n",
              "      <td>abcat0101001</td>\n",
              "      <td>rca</td>\n",
              "      <td>18:14.7</td>\n",
              "      <td>16:51.8</td>\n",
              "    </tr>\n",
              "    <tr>\n",
              "      <th>4</th>\n",
              "      <td>000017f79c2b5da56721f22f9fdd726b13daf8e8</td>\n",
              "      <td>2877134.0</td>\n",
              "      <td>abcat0101005</td>\n",
              "      <td>rca</td>\n",
              "      <td>19:51.7</td>\n",
              "      <td>16:51.8</td>\n",
              "    </tr>\n",
              "    <tr>\n",
              "      <th>...</th>\n",
              "      <td>...</td>\n",
              "      <td>...</td>\n",
              "      <td>...</td>\n",
              "      <td>...</td>\n",
              "      <td>...</td>\n",
              "      <td>...</td>\n",
              "    </tr>\n",
              "    <tr>\n",
              "      <th>201050</th>\n",
              "      <td>1bc5408c8833aa72ed7fbc27a517af6f07ff32d5</td>\n",
              "      <td>7818631.0</td>\n",
              "      <td>cat02015</td>\n",
              "      <td>dvd player</td>\n",
              "      <td>21:26.6</td>\n",
              "      <td>20:36.2</td>\n",
              "    </tr>\n",
              "    <tr>\n",
              "      <th>201051</th>\n",
              "      <td>1bc544a20d4a874415c1f36cbb54b35e019ddd75</td>\n",
              "      <td>2899309.0</td>\n",
              "      <td>abcat0513004</td>\n",
              "      <td>sony laptops</td>\n",
              "      <td>30:29.1</td>\n",
              "      <td>28:53.8</td>\n",
              "    </tr>\n",
              "    <tr>\n",
              "      <th>201052</th>\n",
              "      <td>1bc54da313c7c0c368f86880c848509baed5bddc</td>\n",
              "      <td>417524.0</td>\n",
              "      <td>cat02673</td>\n",
              "      <td>Metallica</td>\n",
              "      <td>27:00.0</td>\n",
              "      <td>24:40.9</td>\n",
              "    </tr>\n",
              "    <tr>\n",
              "      <th>201053</th>\n",
              "      <td>1bc54da313c7c0c368f86880c848509baed5bddc</td>\n",
              "      <td>377149.0</td>\n",
              "      <td>cat02673</td>\n",
              "      <td>Metallica</td>\n",
              "      <td>28:08.7</td>\n",
              "      <td>24:40.9</td>\n",
              "    </tr>\n",
              "    <tr>\n",
              "      <th>201054</th>\n",
              "      <td>1bc569ed1a1a328cb197f3cf0b3111171532bb7b</td>\n",
              "      <td>2842092.0</td>\n",
              "      <td>pcmcat209000050008</td>\n",
              "      <td>touchpad</td>\n",
              "      <td>00:30.9</td>\n",
              "      <td>00:16.4</td>\n",
              "    </tr>\n",
              "  </tbody>\n",
              "</table>\n",
              "<p>201055 rows × 6 columns</p>\n",
              "</div>"
            ],
            "text/plain": [
              "                                            user  ...  query_time\n",
              "0       000000df17cd56a5df4a94074e133c9d4739fae3  ...     43:59.8\n",
              "1       000001928162247ffaf63185cd8b2a244c78e7c6  ...     25:01.2\n",
              "2       000017f79c2b5da56721f22f9fdd726b13daf8e8  ...     55:13.0\n",
              "3       000017f79c2b5da56721f22f9fdd726b13daf8e8  ...     16:51.8\n",
              "4       000017f79c2b5da56721f22f9fdd726b13daf8e8  ...     16:51.8\n",
              "...                                          ...  ...         ...\n",
              "201050  1bc5408c8833aa72ed7fbc27a517af6f07ff32d5  ...     20:36.2\n",
              "201051  1bc544a20d4a874415c1f36cbb54b35e019ddd75  ...     28:53.8\n",
              "201052  1bc54da313c7c0c368f86880c848509baed5bddc  ...     24:40.9\n",
              "201053  1bc54da313c7c0c368f86880c848509baed5bddc  ...     24:40.9\n",
              "201054  1bc569ed1a1a328cb197f3cf0b3111171532bb7b  ...     00:16.4\n",
              "\n",
              "[201055 rows x 6 columns]"
            ]
          },
          "metadata": {
            "tags": []
          }
        }
      ]
    },
    {
      "cell_type": "markdown",
      "metadata": {
        "id": "4uedvIpCZ4-S"
      },
      "source": [
        "# Data Visualization"
      ]
    },
    {
      "cell_type": "code",
      "metadata": {
        "colab": {
          "base_uri": "https://localhost:8080/"
        },
        "id": "8wKWWbe5Z8x3",
        "outputId": "07fb502e-1f15-4b3f-f478-e7100b889597"
      },
      "source": [
        "##clean_data['category'].value_counts().plot(kind='bar')\n",
        "##plt.title('Number of Category', fontsize=20)\n",
        "##plt.xlabel('Category', fontsize=13)\n",
        "##plt.ylabel(\"Total Numbers\", fontsize=13)\n",
        "clean_data['category'].value_counts()\n",
        "clean_data['sku'].value_counts()"
      ],
      "execution_count": null,
      "outputs": [
        {
          "output_type": "execute_result",
          "data": {
            "text/plain": [
              "2842056.0    2535\n",
              "2842092.0    1405\n",
              "1945531.0    1343\n",
              "9755322.0    1261\n",
              "9225377.0    1241\n",
              "             ... \n",
              "3004308.0       1\n",
              "7978101.0       1\n",
              "3469549.0       1\n",
              "6939076.0       1\n",
              "1048591.0       1\n",
              "Name: sku, Length: 28182, dtype: int64"
            ]
          },
          "metadata": {
            "tags": []
          },
          "execution_count": 3
        }
      ]
    },
    {
      "cell_type": "markdown",
      "metadata": {
        "id": "xQFkfG2KHH_H"
      },
      "source": [
        "# Adding Features for Training data"
      ]
    },
    {
      "cell_type": "code",
      "metadata": {
        "colab": {
          "base_uri": "https://localhost:8080/",
          "height": 425
        },
        "id": "Jdo654gHHMEF",
        "outputId": "d0297c9c-de62-49a3-cc11-1a204a278a20"
      },
      "source": [
        "clean_data['Categoryid'] = pd.factorize(clean_data.category)[0]\n",
        "\n",
        "def clicktime(row):\n",
        "  j = row.click_time\n",
        "  if type(j) == float:\n",
        "    display(row) \n",
        "  j =j.replace(':', '.')\n",
        "  j = j[0:5]\n",
        "  d = float(j)\n",
        "  return j\n",
        "\n",
        "def querytime(row):\n",
        "  j = row.query_time\n",
        "  if type(j) == float:\n",
        "    display(row) \n",
        "  j =j.replace(':', '.')\n",
        "  j = j[0:5]\n",
        "  d = float(j)\n",
        "  return j\n",
        "clean_data['Click_time_int'] = clean_data.apply(clicktime,axis=1)\n",
        "clean_data['Query_time_float'] = clean_data.apply(querytime,axis=1)\n",
        "display(clean_data)"
      ],
      "execution_count": null,
      "outputs": [
        {
          "output_type": "display_data",
          "data": {
            "text/html": [
              "<div>\n",
              "<style scoped>\n",
              "    .dataframe tbody tr th:only-of-type {\n",
              "        vertical-align: middle;\n",
              "    }\n",
              "\n",
              "    .dataframe tbody tr th {\n",
              "        vertical-align: top;\n",
              "    }\n",
              "\n",
              "    .dataframe thead th {\n",
              "        text-align: right;\n",
              "    }\n",
              "</style>\n",
              "<table border=\"1\" class=\"dataframe\">\n",
              "  <thead>\n",
              "    <tr style=\"text-align: right;\">\n",
              "      <th></th>\n",
              "      <th>user</th>\n",
              "      <th>sku</th>\n",
              "      <th>category</th>\n",
              "      <th>query</th>\n",
              "      <th>click_time</th>\n",
              "      <th>query_time</th>\n",
              "      <th>Categoryid</th>\n",
              "      <th>Click_time_int</th>\n",
              "      <th>Query_time_float</th>\n",
              "    </tr>\n",
              "  </thead>\n",
              "  <tbody>\n",
              "    <tr>\n",
              "      <th>0</th>\n",
              "      <td>000000df17cd56a5df4a94074e133c9d4739fae3</td>\n",
              "      <td>2125233.0</td>\n",
              "      <td>abcat0101001</td>\n",
              "      <td>Televisiones Panasonic  50 pulgadas</td>\n",
              "      <td>44:52.5</td>\n",
              "      <td>43:59.8</td>\n",
              "      <td>0</td>\n",
              "      <td>44.52</td>\n",
              "      <td>43.59</td>\n",
              "    </tr>\n",
              "    <tr>\n",
              "      <th>1</th>\n",
              "      <td>000001928162247ffaf63185cd8b2a244c78e7c6</td>\n",
              "      <td>2009324.0</td>\n",
              "      <td>abcat0101001</td>\n",
              "      <td>Sharp</td>\n",
              "      <td>25:37.4</td>\n",
              "      <td>25:01.2</td>\n",
              "      <td>0</td>\n",
              "      <td>25.37</td>\n",
              "      <td>25.01</td>\n",
              "    </tr>\n",
              "    <tr>\n",
              "      <th>2</th>\n",
              "      <td>000017f79c2b5da56721f22f9fdd726b13daf8e8</td>\n",
              "      <td>1517163.0</td>\n",
              "      <td>pcmcat193100050014</td>\n",
              "      <td>nook</td>\n",
              "      <td>56:58.9</td>\n",
              "      <td>55:13.0</td>\n",
              "      <td>1</td>\n",
              "      <td>56.58</td>\n",
              "      <td>55.13</td>\n",
              "    </tr>\n",
              "    <tr>\n",
              "      <th>3</th>\n",
              "      <td>000017f79c2b5da56721f22f9fdd726b13daf8e8</td>\n",
              "      <td>2877125.0</td>\n",
              "      <td>abcat0101001</td>\n",
              "      <td>rca</td>\n",
              "      <td>18:14.7</td>\n",
              "      <td>16:51.8</td>\n",
              "      <td>0</td>\n",
              "      <td>18.14</td>\n",
              "      <td>16.51</td>\n",
              "    </tr>\n",
              "    <tr>\n",
              "      <th>4</th>\n",
              "      <td>000017f79c2b5da56721f22f9fdd726b13daf8e8</td>\n",
              "      <td>2877134.0</td>\n",
              "      <td>abcat0101005</td>\n",
              "      <td>rca</td>\n",
              "      <td>19:51.7</td>\n",
              "      <td>16:51.8</td>\n",
              "      <td>2</td>\n",
              "      <td>19.51</td>\n",
              "      <td>16.51</td>\n",
              "    </tr>\n",
              "    <tr>\n",
              "      <th>...</th>\n",
              "      <td>...</td>\n",
              "      <td>...</td>\n",
              "      <td>...</td>\n",
              "      <td>...</td>\n",
              "      <td>...</td>\n",
              "      <td>...</td>\n",
              "      <td>...</td>\n",
              "      <td>...</td>\n",
              "      <td>...</td>\n",
              "    </tr>\n",
              "    <tr>\n",
              "      <th>201050</th>\n",
              "      <td>1bc5408c8833aa72ed7fbc27a517af6f07ff32d5</td>\n",
              "      <td>7818631.0</td>\n",
              "      <td>cat02015</td>\n",
              "      <td>dvd player</td>\n",
              "      <td>21:26.6</td>\n",
              "      <td>20:36.2</td>\n",
              "      <td>20</td>\n",
              "      <td>21.26</td>\n",
              "      <td>20.36</td>\n",
              "    </tr>\n",
              "    <tr>\n",
              "      <th>201051</th>\n",
              "      <td>1bc544a20d4a874415c1f36cbb54b35e019ddd75</td>\n",
              "      <td>2899309.0</td>\n",
              "      <td>abcat0513004</td>\n",
              "      <td>sony laptops</td>\n",
              "      <td>30:29.1</td>\n",
              "      <td>28:53.8</td>\n",
              "      <td>40</td>\n",
              "      <td>30.29</td>\n",
              "      <td>28.53</td>\n",
              "    </tr>\n",
              "    <tr>\n",
              "      <th>201052</th>\n",
              "      <td>1bc54da313c7c0c368f86880c848509baed5bddc</td>\n",
              "      <td>417524.0</td>\n",
              "      <td>cat02673</td>\n",
              "      <td>Metallica</td>\n",
              "      <td>27:00.0</td>\n",
              "      <td>24:40.9</td>\n",
              "      <td>50</td>\n",
              "      <td>27.00</td>\n",
              "      <td>24.40</td>\n",
              "    </tr>\n",
              "    <tr>\n",
              "      <th>201053</th>\n",
              "      <td>1bc54da313c7c0c368f86880c848509baed5bddc</td>\n",
              "      <td>377149.0</td>\n",
              "      <td>cat02673</td>\n",
              "      <td>Metallica</td>\n",
              "      <td>28:08.7</td>\n",
              "      <td>24:40.9</td>\n",
              "      <td>50</td>\n",
              "      <td>28.08</td>\n",
              "      <td>24.40</td>\n",
              "    </tr>\n",
              "    <tr>\n",
              "      <th>201054</th>\n",
              "      <td>1bc569ed1a1a328cb197f3cf0b3111171532bb7b</td>\n",
              "      <td>2842092.0</td>\n",
              "      <td>pcmcat209000050008</td>\n",
              "      <td>touchpad</td>\n",
              "      <td>00:30.9</td>\n",
              "      <td>00:16.4</td>\n",
              "      <td>54</td>\n",
              "      <td>00.30</td>\n",
              "      <td>00.16</td>\n",
              "    </tr>\n",
              "  </tbody>\n",
              "</table>\n",
              "<p>201055 rows × 9 columns</p>\n",
              "</div>"
            ],
            "text/plain": [
              "                                            user  ...  Query_time_float\n",
              "0       000000df17cd56a5df4a94074e133c9d4739fae3  ...             43.59\n",
              "1       000001928162247ffaf63185cd8b2a244c78e7c6  ...             25.01\n",
              "2       000017f79c2b5da56721f22f9fdd726b13daf8e8  ...             55.13\n",
              "3       000017f79c2b5da56721f22f9fdd726b13daf8e8  ...             16.51\n",
              "4       000017f79c2b5da56721f22f9fdd726b13daf8e8  ...             16.51\n",
              "...                                          ...  ...               ...\n",
              "201050  1bc5408c8833aa72ed7fbc27a517af6f07ff32d5  ...             20.36\n",
              "201051  1bc544a20d4a874415c1f36cbb54b35e019ddd75  ...             28.53\n",
              "201052  1bc54da313c7c0c368f86880c848509baed5bddc  ...             24.40\n",
              "201053  1bc54da313c7c0c368f86880c848509baed5bddc  ...             24.40\n",
              "201054  1bc569ed1a1a328cb197f3cf0b3111171532bb7b  ...             00.16\n",
              "\n",
              "[201055 rows x 9 columns]"
            ]
          },
          "metadata": {
            "tags": []
          }
        }
      ]
    },
    {
      "cell_type": "code",
      "metadata": {
        "colab": {
          "base_uri": "https://localhost:8080/",
          "height": 625
        },
        "id": "Txur-x8fVTyJ",
        "outputId": "f73ec6f0-42bd-4810-f4df-6af36e4edf31"
      },
      "source": [
        "import time\n",
        "from sklearn.model_selection import train_test_split\n",
        "from sklearn.preprocessing import StandardScaler\n",
        "\n",
        "y = clean_data.sku\n",
        "X = clean_data.drop(['sku'], axis = 1)\n",
        "Z = X.drop(['query','user','category','click_time','query_time'],1)\n",
        "X_train,X_test,y_train,y_test= train_test_split(Z,y,test_size=0.2, random_state=2)\n",
        "display(X_train)\n",
        "display(clean_data.category)"
      ],
      "execution_count": null,
      "outputs": [
        {
          "output_type": "display_data",
          "data": {
            "text/html": [
              "<div>\n",
              "<style scoped>\n",
              "    .dataframe tbody tr th:only-of-type {\n",
              "        vertical-align: middle;\n",
              "    }\n",
              "\n",
              "    .dataframe tbody tr th {\n",
              "        vertical-align: top;\n",
              "    }\n",
              "\n",
              "    .dataframe thead th {\n",
              "        text-align: right;\n",
              "    }\n",
              "</style>\n",
              "<table border=\"1\" class=\"dataframe\">\n",
              "  <thead>\n",
              "    <tr style=\"text-align: right;\">\n",
              "      <th></th>\n",
              "      <th>Categoryid</th>\n",
              "      <th>Click_time_int</th>\n",
              "      <th>Query_time_float</th>\n",
              "    </tr>\n",
              "  </thead>\n",
              "  <tbody>\n",
              "    <tr>\n",
              "      <th>77160</th>\n",
              "      <td>20</td>\n",
              "      <td>00.57</td>\n",
              "      <td>59.28</td>\n",
              "    </tr>\n",
              "    <tr>\n",
              "      <th>191970</th>\n",
              "      <td>74</td>\n",
              "      <td>07.33</td>\n",
              "      <td>07.04</td>\n",
              "    </tr>\n",
              "    <tr>\n",
              "      <th>114492</th>\n",
              "      <td>76</td>\n",
              "      <td>28.59</td>\n",
              "      <td>28.03</td>\n",
              "    </tr>\n",
              "    <tr>\n",
              "      <th>79875</th>\n",
              "      <td>6</td>\n",
              "      <td>07.02</td>\n",
              "      <td>06.50</td>\n",
              "    </tr>\n",
              "    <tr>\n",
              "      <th>60974</th>\n",
              "      <td>32</td>\n",
              "      <td>21.42</td>\n",
              "      <td>20.22</td>\n",
              "    </tr>\n",
              "    <tr>\n",
              "      <th>...</th>\n",
              "      <td>...</td>\n",
              "      <td>...</td>\n",
              "      <td>...</td>\n",
              "    </tr>\n",
              "    <tr>\n",
              "      <th>162091</th>\n",
              "      <td>311</td>\n",
              "      <td>32.31</td>\n",
              "      <td>31.05</td>\n",
              "    </tr>\n",
              "    <tr>\n",
              "      <th>175638</th>\n",
              "      <td>82</td>\n",
              "      <td>29.25</td>\n",
              "      <td>28.28</td>\n",
              "    </tr>\n",
              "    <tr>\n",
              "      <th>95816</th>\n",
              "      <td>210</td>\n",
              "      <td>23.15</td>\n",
              "      <td>22.33</td>\n",
              "    </tr>\n",
              "    <tr>\n",
              "      <th>100879</th>\n",
              "      <td>328</td>\n",
              "      <td>36.44</td>\n",
              "      <td>36.13</td>\n",
              "    </tr>\n",
              "    <tr>\n",
              "      <th>89256</th>\n",
              "      <td>20</td>\n",
              "      <td>30.05</td>\n",
              "      <td>29.00</td>\n",
              "    </tr>\n",
              "  </tbody>\n",
              "</table>\n",
              "<p>160844 rows × 3 columns</p>\n",
              "</div>"
            ],
            "text/plain": [
              "        Categoryid Click_time_int Query_time_float\n",
              "77160           20          00.57            59.28\n",
              "191970          74          07.33            07.04\n",
              "114492          76          28.59            28.03\n",
              "79875            6          07.02            06.50\n",
              "60974           32          21.42            20.22\n",
              "...            ...            ...              ...\n",
              "162091         311          32.31            31.05\n",
              "175638          82          29.25            28.28\n",
              "95816          210          23.15            22.33\n",
              "100879         328          36.44            36.13\n",
              "89256           20          30.05            29.00\n",
              "\n",
              "[160844 rows x 3 columns]"
            ]
          },
          "metadata": {
            "tags": []
          }
        },
        {
          "output_type": "display_data",
          "data": {
            "text/plain": [
              "0               abcat0101001\n",
              "1               abcat0101001\n",
              "2         pcmcat193100050014\n",
              "3               abcat0101001\n",
              "4               abcat0101005\n",
              "                 ...        \n",
              "201050              cat02015\n",
              "201051          abcat0513004\n",
              "201052              cat02673\n",
              "201053              cat02673\n",
              "201054    pcmcat209000050008\n",
              "Name: category, Length: 201055, dtype: object"
            ]
          },
          "metadata": {
            "tags": []
          }
        }
      ]
    },
    {
      "cell_type": "code",
      "metadata": {
        "id": "Er-fxwbnVvDS"
      },
      "source": [
        "from sklearn.tree import DecisionTreeClassifier\n",
        "import time\n",
        "from sklearn.preprocessing import LabelEncoder\n",
        "from sklearn import utils\n",
        "from sklearn.neighbors import KNeighborsClassifier\n",
        "from sklearn.metrics import f1_score\n",
        "starttime1 = time.time()\n",
        "clf_dt = DecisionTreeClassifier()\n",
        "clf_dt.fit(X_train, y_train)\n",
        "endtime1 = time.time()\n",
        "decisionpre = clf_dt.predict(X_test)\n",
        "#target3 = clf_dt.predict(X_train)\n",
        "#finalscore=f1_score(y_test, target2, average='macro'), sum(y_test == target2) / float(len(target2))\n",
        "#f1_score(y_train, target3, average='macro')#, sum(y_train == target3) / float(len(target3))\n",
        "accuracy2 = clf_dt.score(X_test,y_test)\n",
        "print(\"Accuracy: \", accuracy2)\n",
        "print(f\"Training time: {endtime1 - starttime1}s\")\n",
        "print(decisionpre)\n",
        "#probabilitydt = clf_dt.predict_proba(X_test)\n",
        "#probabilitydt = pd.DataFrame(probabilitydt, columns=['Strength 0', 'Strength 1','Strength 2'])\n",
        "#display((probabilitydt).head(10))"
      ],
      "execution_count": null,
      "outputs": []
    },
    {
      "cell_type": "markdown",
      "metadata": {
        "id": "KYRFHwzep123"
      },
      "source": [
        "# Naive Bayes"
      ]
    },
    {
      "cell_type": "code",
      "metadata": {
        "colab": {
          "background_save": true,
          "base_uri": "https://localhost:8080/"
        },
        "id": "5-CuFI90p59z",
        "outputId": "cc4530e0-9eba-4bfd-ce76-0e8cf117554d"
      },
      "source": [
        "from sklearn.naive_bayes import GaussianNB\n",
        "import time\n",
        "from sklearn.tree import DecisionTreeClassifier\n",
        "import time\n",
        "from sklearn.preprocessing import LabelEncoder\n",
        "from sklearn import utils\n",
        "from sklearn.neighbors import KNeighborsClassifier\n",
        "from sklearn.metrics import f1_score\n",
        "clf_nb = GaussianNB()\n",
        "starttime2 = time.time()\n",
        "clf_nb.fit(X_train,y_train)\n",
        "endtime2 = time.time()\n",
        "\n",
        "accuracy3 = clf_nb.score(X_test,y_test)\n",
        "print(\"Accuracy: \" , accuracy3)\n",
        "print(f\"Training time: {endtime2 - starttime2}s\")\n",
        "print(clf_nb.predict(X_test))\n",
        "#probabilitynb = clf_nb.predict_proba(X_test)\n",
        "#probabilitynb = pd.DataFrame(probabilitynb, columns=['Strength 0', 'Strength 1','Strength 2'])\n",
        "#display((probabilitynb).head(10))"
      ],
      "execution_count": null,
      "outputs": [
        {
          "output_type": "stream",
          "text": [
            "Accuracy:  0.15488299221606028\n",
            "Training time: 16.786591053009033s\n"
          ],
          "name": "stdout"
        },
        {
          "output_type": "error",
          "ename": "KeyboardInterrupt",
          "evalue": "ignored",
          "traceback": [
            "\u001b[0;31m---------------------------------------------------------------------------\u001b[0m",
            "\u001b[0;31mKeyboardInterrupt\u001b[0m                         Traceback (most recent call last)",
            "\u001b[0;32m<ipython-input-6-657a077eb216>\u001b[0m in \u001b[0;36m<module>\u001b[0;34m()\u001b[0m\n\u001b[1;32m     15\u001b[0m \u001b[0mprint\u001b[0m\u001b[0;34m(\u001b[0m\u001b[0;34m\"Accuracy: \"\u001b[0m \u001b[0;34m,\u001b[0m \u001b[0maccuracy3\u001b[0m\u001b[0;34m)\u001b[0m\u001b[0;34m\u001b[0m\u001b[0;34m\u001b[0m\u001b[0m\n\u001b[1;32m     16\u001b[0m \u001b[0mprint\u001b[0m\u001b[0;34m(\u001b[0m\u001b[0;34mf\"Training time: {endtime2 - starttime2}s\"\u001b[0m\u001b[0;34m)\u001b[0m\u001b[0;34m\u001b[0m\u001b[0;34m\u001b[0m\u001b[0m\n\u001b[0;32m---> 17\u001b[0;31m \u001b[0mprint\u001b[0m\u001b[0;34m(\u001b[0m\u001b[0mclf_nb\u001b[0m\u001b[0;34m.\u001b[0m\u001b[0mpredict\u001b[0m\u001b[0;34m(\u001b[0m\u001b[0mX_test\u001b[0m\u001b[0;34m)\u001b[0m\u001b[0;34m)\u001b[0m\u001b[0;34m\u001b[0m\u001b[0;34m\u001b[0m\u001b[0m\n\u001b[0m\u001b[1;32m     18\u001b[0m \u001b[0;31m#probabilitynb = clf_nb.predict_proba(X_test)\u001b[0m\u001b[0;34m\u001b[0m\u001b[0;34m\u001b[0m\u001b[0;34m\u001b[0m\u001b[0m\n\u001b[1;32m     19\u001b[0m \u001b[0;31m#probabilitynb = pd.DataFrame(probabilitynb, columns=['Strength 0', 'Strength 1','Strength 2'])\u001b[0m\u001b[0;34m\u001b[0m\u001b[0;34m\u001b[0m\u001b[0;34m\u001b[0m\u001b[0m\n",
            "\u001b[0;32m/usr/local/lib/python3.7/dist-packages/sklearn/naive_bayes.py\u001b[0m in \u001b[0;36mpredict\u001b[0;34m(self, X)\u001b[0m\n\u001b[1;32m     75\u001b[0m         \u001b[0mcheck_is_fitted\u001b[0m\u001b[0;34m(\u001b[0m\u001b[0mself\u001b[0m\u001b[0;34m)\u001b[0m\u001b[0;34m\u001b[0m\u001b[0;34m\u001b[0m\u001b[0m\n\u001b[1;32m     76\u001b[0m         \u001b[0mX\u001b[0m \u001b[0;34m=\u001b[0m \u001b[0mself\u001b[0m\u001b[0;34m.\u001b[0m\u001b[0m_check_X\u001b[0m\u001b[0;34m(\u001b[0m\u001b[0mX\u001b[0m\u001b[0;34m)\u001b[0m\u001b[0;34m\u001b[0m\u001b[0;34m\u001b[0m\u001b[0m\n\u001b[0;32m---> 77\u001b[0;31m         \u001b[0mjll\u001b[0m \u001b[0;34m=\u001b[0m \u001b[0mself\u001b[0m\u001b[0;34m.\u001b[0m\u001b[0m_joint_log_likelihood\u001b[0m\u001b[0;34m(\u001b[0m\u001b[0mX\u001b[0m\u001b[0;34m)\u001b[0m\u001b[0;34m\u001b[0m\u001b[0;34m\u001b[0m\u001b[0m\n\u001b[0m\u001b[1;32m     78\u001b[0m         \u001b[0;32mreturn\u001b[0m \u001b[0mself\u001b[0m\u001b[0;34m.\u001b[0m\u001b[0mclasses_\u001b[0m\u001b[0;34m[\u001b[0m\u001b[0mnp\u001b[0m\u001b[0;34m.\u001b[0m\u001b[0margmax\u001b[0m\u001b[0;34m(\u001b[0m\u001b[0mjll\u001b[0m\u001b[0;34m,\u001b[0m \u001b[0maxis\u001b[0m\u001b[0;34m=\u001b[0m\u001b[0;36m1\u001b[0m\u001b[0;34m)\u001b[0m\u001b[0;34m]\u001b[0m\u001b[0;34m\u001b[0m\u001b[0;34m\u001b[0m\u001b[0m\n\u001b[1;32m     79\u001b[0m \u001b[0;34m\u001b[0m\u001b[0m\n",
            "\u001b[0;31mKeyboardInterrupt\u001b[0m: "
          ]
        }
      ]
    }
  ]
}